{
 "cells": [
  {
   "cell_type": "code",
   "execution_count": null,
   "id": "8b66ff79",
   "metadata": {},
   "outputs": [],
   "source": [
    "%%javascript\n",
    "IPython.OutputArea.prototype._should_scroll = function(lines) {\n",
    "    return false;\n",
    "}\n",
    "document.title = 'Spectrum Widget'\n",
    "if (document.getElementById('appmode-busy')) {\n",
    "    window.onbeforeunload = function() {return}\n",
    "}"
   ]
  },
  {
   "cell_type": "code",
   "execution_count": null,
   "id": "88b1c7c6",
   "metadata": {},
   "outputs": [],
   "source": [
    "# Activate Bokeh\n",
    "\n",
    "# https://docs.bokeh.org/en/latest/docs/user_guide/jupyter.html\n",
    "# https://github.com/bokeh/bokeh/blob/branch-3.0/examples/howto/server_embed/notebook_embed.ipynb\n",
    "from bokeh.io import output_notebook\n",
    "\n",
    "# https://docs.bokeh.org/en/latest/docs/reference/io.html#bokeh.io.output_notebook\n",
    "output_notebook(hide_banner=True, load_timeout=5000, verbose=True)"
   ]
  },
  {
   "cell_type": "code",
   "execution_count": null,
   "id": "d8f591d5",
   "metadata": {},
   "outputs": [],
   "source": [
    "from aiida import load_profile\n",
    "from aiida.orm import load_node\n",
    "import ipywidgets as ipw\n",
    "\n",
    "profile = load_profile()\n",
    "print(f\"Loaded profile '{profile.name}'\")"
   ]
  },
  {
   "cell_type": "code",
   "execution_count": null,
   "id": "7b5e2ac0",
   "metadata": {},
   "outputs": [],
   "source": [
    "from aiidalab_ispg.app.steps import ViewSpectrumStep\n",
    "from aiidalab_ispg.app import WorkChainSelector\n",
    "\n",
    "widget = ViewSpectrumStep()\n",
    "\n",
    "WORKCHAIN_LABEL = \"AtmospecWorkChain\"\n",
    "work_chain_selector = WorkChainSelector(workchain_label=WORKCHAIN_LABEL, layout=ipw.Layout(width='auto'))\n",
    "\n",
    "def _observe_process_selection(change):\n",
    "    if change['old'] == change['new']:\n",
    "        return\n",
    "    pk = change['new']\n",
    "    if pk is None:\n",
    "        widget.reset()\n",
    "        return\n",
    "    process = load_node(pk)\n",
    "    if not process.is_finished_ok:\n",
    "        widget.reset()\n",
    "        return\n",
    "    widget.process_uuid = process.uuid\n",
    "\n",
    "work_chain_selector.observe(_observe_process_selection, 'value')\n",
    "\n",
    "display(ipw.VBox(children=[work_chain_selector, widget]))"
   ]
  },
  {
   "cell_type": "code",
   "execution_count": null,
   "id": "546770c3",
   "metadata": {},
   "outputs": [],
   "source": [
    "#fig = widget.spectrum.figure.get_figure()\n",
    "#for g in fig.renderers:\n",
    "#    print(g.name)\n",
    "#line = fig.select_one({\"name\": \"conformer_0\"})"
   ]
  },
  {
   "cell_type": "code",
   "execution_count": null,
   "id": "5f2bb577",
   "metadata": {},
   "outputs": [],
   "source": [
    "#x = [0.0, 2.0]\n",
    "#y = [0.0, 2.0]\n",
    "#line_dash=\"dashed\",\n",
    "#line_color=\"orange\",\n",
    "#widget.spectrum.plot_line(x, y, label=\"test\", line_color=\"orange\", line_dash=\"dashed\")"
   ]
  },
  {
   "cell_type": "code",
   "execution_count": null,
   "id": "a3292ea3",
   "metadata": {},
   "outputs": [],
   "source": [
    "#widget.spectrum.remove_line(\"test\")"
   ]
  },
  {
   "cell_type": "code",
   "execution_count": null,
   "id": "575c8ff1",
   "metadata": {},
   "outputs": [],
   "source": [
    "### Testing spectrum widget against Newton-X reference "
   ]
  },
  {
   "cell_type": "code",
   "execution_count": null,
   "id": "e58c283c",
   "metadata": {},
   "outputs": [],
   "source": [
    "#energies = [4.239, 4.724]\n",
    "#geom_index = [0, 1]\n",
    "#oscillator_strengths = [0.00020, 0.00040]\n",
    "#transitions =  [\n",
    "#            {\"energy\": energy, \"osc_strength\": osc, \"geom_index\": ind}\n",
    "#            for ind, energy, osc in zip(geom_index, energies, oscillator_strengths)\n",
    "#]"
   ]
  },
  {
   "cell_type": "code",
   "execution_count": null,
   "id": "daf459fe",
   "metadata": {},
   "outputs": [],
   "source": [
    "#widget.spectrum.transitions = transitions"
   ]
  },
  {
   "cell_type": "code",
   "execution_count": null,
   "id": "c0641c8a",
   "metadata": {},
   "outputs": [],
   "source": [
    "# Newton-X reference, Lorentzian broadening with tau=0.05eV\n",
    "#x = [4.0895, 4.0945, 4.0995, 4.1045, 4.1095, 4.1145, 4.1195, 4.1245, 4.1295, 4.1345, 4.1395, 4.1445, 4.1495, 4.1545, 4.1595, 4.1645, 4.1695, 4.1745, 4.1795, 4.1845, 4.1895, 4.1945, 4.1995, 4.2045, 4.2095, 4.2145, 4.2195, 4.2245, 4.2295, 4.2345, 4.2395, 4.2445, 4.2495, 4.2545, 4.2595, 4.2645, 4.2695, 4.2745, 4.2795, 4.2845, 4.2895, 4.2945, 4.2995, 4.3045, 4.3095, 4.3145, 4.3195, 4.3245, 4.3295, 4.3345, 4.3395, 4.3445, 4.3495, 4.3545, 4.3595, 4.3645, 4.3695, 4.3745, 4.3795, 4.3845, 4.3895, 4.3945, 4.3995, 4.4045, 4.4095, 4.4145, 4.4195, 4.4245, 4.4295, 4.4345, 4.4395, 4.4445, 4.4495, 4.4545, 4.4595, 4.4645, 4.4695, 4.4745, 4.4795, 4.4845, 4.4895, 4.4945, 4.4995, 4.5045, 4.5095, 4.5145, 4.5195, 4.5245, 4.5295, 4.5345, 4.5395, 4.5445, 4.5495, 4.5545, 4.5595, 4.5645, 4.5695, 4.5745, 4.5795, 4.5845, 4.5895, 4.5945, 4.5995, 4.6045, 4.6095, 4.6145, 4.6195, 4.6245, 4.6295, 4.6345, 4.6395, 4.6445, 4.6495, 4.6545, 4.6595, 4.6645, 4.6695, 4.6745, 4.6795, 4.6845, 4.6895, 4.6945, 4.6995, 4.7045, 4.7095, 4.7145, 4.7195, 4.7245, 4.7295, 4.7345, 4.7395, 4.7445, 4.7495, 4.7545, 4.7595, 4.7645, 4.7695, 4.7745, 4.7795, 4.7845, 4.7895, 4.7945, 4.7995, 4.8045, 4.8095, 4.8145, 4.8195, 4.8245, 4.8295, 4.8345, 4.8395, 4.8445, 4.8495, 4.8545, 4.8595, 4.8645, 4.8695]\n",
    "#y = [4.4170e-21, 4.6860e-21, 4.9820e-21, 5.3100e-21, 5.6730e-21, 6.0780e-21, 6.5310e-21, 7.0390e-21, 7.6120e-21, 8.2620e-21, 9.0030e-21, 9.8510e-21, 1.0830e-20, 1.1966e-20, 1.3295e-20, 1.4859e-20, 1.6718e-20, 1.8944e-20, 2.1636e-20, 2.4922e-20, 2.8973e-20, 3.4015e-20, 4.0344e-20, 4.8333e-20, 5.8424e-20, 7.1044e-20, 8.6386e-20, 1.0391e-19, 1.2156e-19, 1.3535e-19, 1.4058e-19, 1.3506e-19, 1.2105e-19, 1.0327e-19, 8.5711e-20, 7.0382e-20, 5.7807e-20, 4.7781e-20, 3.9864e-20, 3.3610e-20, 2.8642e-20, 2.4664e-20, 2.1448e-20, 1.8825e-20, 1.6665e-20, 1.4871e-20, 1.3369e-20, 1.2101e-20, 1.1025e-20, 1.0105e-20, 9.3150e-21, 8.6320e-21, 8.0400e-21, 7.5250e-21, 7.0740e-21, 6.6800e-21, 6.3340e-21, 6.0310e-21, 5.7640e-21, 5.5290e-21, 5.3230e-21, 5.1420e-21, 4.9840e-21, 4.8470e-21, 4.7290e-21, 4.6280e-21, 4.5430e-21, 4.4720e-21, 4.4150e-21, 4.3700e-21, 4.3380e-21, 4.3180e-21, 4.3090e-21, 4.3110e-21, 4.3230e-21, 4.3460e-21, 4.3800e-21, 4.4240e-21, 4.4790e-21, 4.5450e-21, 4.6230e-21, 4.7120e-21, 4.8130e-21, 4.9270e-21, 5.0550e-21, 5.1970e-21, 5.3550e-21, 5.5290e-21, 5.7210e-21, 5.9330e-21, 6.1660e-21, 6.4230e-21, 6.7040e-21, 7.0150e-21, 7.3560e-21, 7.7330e-21, 8.1490e-21, 8.6100e-21, 9.1200e-21, 9.6860e-21, 1.0318e-20, 1.1023e-20, 1.1813e-20, 1.2701e-20, 1.3705e-20, 1.4842e-20, 1.6137e-20, 1.7620e-20, 1.9326e-20, 2.1301e-20, 2.3602e-20, 2.6301e-20, 2.9491e-20, 3.3292e-20, 3.7859e-20, 4.3399e-20, 5.0181e-20, 5.8565e-20, 6.9026e-20, 8.2182e-20, 9.8811e-20, 1.1981e-19, 1.4599e-19, 1.7757e-19, 2.1304e-19, 2.4763e-19, 2.7276e-19, 2.7942e-19, 2.6475e-19, 2.3464e-19, 1.9865e-19, 1.6410e-19, 1.3437e-19, 1.1015e-19, 9.0877e-20, 7.5653e-20, 6.3607e-20, 5.4014e-20, 4.6307e-20, 4.0056e-20, 3.4936e-20, 3.0702e-20, 2.7169e-20, 2.4195e-20, 2.1673e-20, 1.9516e-20, 1.7660e-20, 1.6052e-20, 1.4651e-20, 1.3423e-20, 1.2341e-20, 1.1384e-20, 1.0532e-20, 9.7720e-21, 9.0910e-21, 8.4780e-21, 7.9250e-21]"
   ]
  },
  {
   "cell_type": "code",
   "execution_count": null,
   "id": "af1a0138",
   "metadata": {},
   "outputs": [],
   "source": [
    "#line_color=\"orange\"\n",
    "#label=\"newtonx\"\n",
    "#widget.spectrum.plot_line(x, y, label=label, line_color=line_color, line_dash=\"dashed\")"
   ]
  },
  {
   "cell_type": "code",
   "execution_count": null,
   "id": "1b7dc216",
   "metadata": {},
   "outputs": [],
   "source": [
    "#widget.spectrum.remove_line(label)"
   ]
  },
  {
   "cell_type": "code",
   "execution_count": null,
   "id": "854747cc",
   "metadata": {},
   "outputs": [],
   "source": [
    "# Load methylperoxide data\n",
    "#from pathlib import Path\n",
    "#ngeom = {}\n",
    "#conformer_transitions = {}\n",
    "#x = {}\n",
    "#y = {}\n",
    "#widgets = {}\n",
    "#ngeom[\"qt\"] = 3864\n",
    "#ngeom[\"wigner_full\"] = 3919\n",
    "#ngeom[\"wigner_discard\"] = 3942\n",
    "\n",
    "#folder = Path(\"/home/jovyan/methylperoxide/\")\n",
    "#paths = {\n",
    "#   \"qt\": [Path.joinpath(folder, f\"qt.{state}.dat\") for state in (1, 2, 3)],\n",
    "#   \"wigner_full\": [Path.joinpath(folder, f\"wigner_full.{state}.dat\") for state in (1, 2, 3)],\n",
    "#   \"wigner_discard\": [Path.joinpath(folder, f\"wigner_discard.{state}.dat\") for state in (1, 2, 3)],\n",
    "#}"
   ]
  },
  {
   "cell_type": "code",
   "execution_count": null,
   "id": "3f7fd710",
   "metadata": {},
   "outputs": [],
   "source": [
    "#sampling = \"wigner_full\"\n",
    "#conformer_transitions[sampling] = []\n",
    "#widgets[sampling] = ViewSpectrumStep()\n",
    "#for state in (0, 1, 2):\n",
    "#    with open(paths[sampling][state], \"r\") as f:\n",
    "#        lines = f.read().split(\"\\n\")[0:-1]\n",
    "#        assert len(lines) == ngeom[sampling]\n",
    "#        transitions = [{\n",
    "#            \"energy\": float(line.split()[0]),\n",
    "#            \"osc_strength\": float(line.split()[1]),\n",
    "#            \"geom_index\": i\n",
    "#        } for i, line in enumerate(lines)]\n",
    "#        conformer_transitions[sampling].append({\n",
    "#            \"transitions\": transitions,\n",
    "#            \"nsample\": ngeom[sampling],\n",
    "#            \"weight\": 1.0\n",
    "#        })\n",
    "\n",
    "#widgets[sampling].spectrum.conformer_transitions = conformer_transitions[sampling]\n",
    "\n",
    "#theory = widgets[sampling].spectrum.figure.get_figure().select_one({\"name\": \"theory\"})\n",
    "#x[sampling] = theory.data_source.data.get(\"x\")\n",
    "#y[sampling] = theory.data_source.data.get(\"y\")\n",
    "#widgets[sampling]"
   ]
  }
 ],
 "metadata": {
  "kernelspec": {
   "display_name": "Python 3 (ipykernel)",
   "language": "python",
   "name": "python3"
  },
  "language_info": {
   "codemirror_mode": {
    "name": "ipython",
    "version": 3
   },
   "file_extension": ".py",
   "mimetype": "text/x-python",
   "name": "python",
   "nbconvert_exporter": "python",
   "pygments_lexer": "ipython3",
   "version": "3.9.13"
  }
 },
 "nbformat": 4,
 "nbformat_minor": 5
}
