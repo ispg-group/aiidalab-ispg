{
 "cells": [
  {
   "cell_type": "code",
   "execution_count": null,
   "id": "a476df62",
   "metadata": {},
   "outputs": [],
   "source": [
    "%load_ext aiida\n",
    "%aiida"
   ]
  },
  {
   "cell_type": "code",
   "execution_count": null,
   "id": "81c5299e",
   "metadata": {},
   "outputs": [],
   "source": [
    "from aiidalab_atmospec_workchain import OrcaWignerSpectrumWorkChain\n",
    "from aiida.engine import WorkChain, calcfunction\n",
    "from aiida.engine import submit, run, append_, ToContext, if_\n",
    "from aiida.engine import run_get_node, run_get_pk\n",
    "\n",
    "StructureData = DataFactory(\"core.structure\")\n",
    "Dict = DataFactory(\"core.dict\")\n",
    "TrajectoryData = DataFactory(\"core.array.trajectory\")"
   ]
  },
  {
   "cell_type": "code",
   "execution_count": null,
   "id": "c38c3323",
   "metadata": {},
   "outputs": [],
   "source": [
    "# https://github.com/aiidateam/aiida-core/blob/2c183fc4486e00f3348a1b66cdcd6d9fbfd563f0/.github/system_tests/workchains.py#L182\n",
    "\n",
    "# General WorkChain for combining all inputs from a dynamic namespace 'ns'\n",
    "# into a single List.\n",
    "# Used to combine outputs from several subworkflows into one output\n",
    "# It should be launched via run() instead of submit()\n",
    "class CombineInputsToList(WorkChain):\n",
    "    \n",
    "    @classmethod\n",
    "    def define(cls, spec):\n",
    "        super().define(spec)\n",
    "        spec.input_namespace(\"ns\", dynamic=True)\n",
    "        spec.output(\"output\", valid_type=List)\n",
    "        spec.outline(cls.combine)\n",
    "        \n",
    "    def combine(self):\n",
    "        #input_list = [self.inputs.ns[k] for k in self.inputs.ns]\n",
    "        input_list = [self.inputs.ns[k].get_dict() if isinstance(self.inputs.ns[k], Dict) else self.inputs.ns[k] for k in self.inputs.ns]\n",
    "        self.out('output', List(list=input_list).store())\n",
    "        \n",
    "        \n",
    "class CombineStructuresToTrajectoryData(WorkChain):\n",
    "    \n",
    "    @classmethod\n",
    "    def define(cls, spec):\n",
    "        super().define(spec)\n",
    "        # TODO: Maybe allow other types other than StructureData?\n",
    "        # Not sure what are the requirements for TrajectoryData\n",
    "        spec.input_namespace(\"structures\", dynamic=True, valid_type=StructureData)\n",
    "        spec.output(\"trajectory\", valid_type=TrajectoryData)\n",
    "        spec.outline(cls.combine)\n",
    "        \n",
    "    def combine(self):\n",
    "        structurelist = [self.inputs.structures[k] for k in self.inputs.structures]\n",
    "        self.out('trajectory', TrajectoryData(structurelist=structurelist).store())"
   ]
  },
  {
   "cell_type": "markdown",
   "id": "25c6e576",
   "metadata": {},
   "source": [
    "# Now test more than one conformer"
   ]
  },
  {
   "cell_type": "code",
   "execution_count": null,
   "id": "2e3136ae",
   "metadata": {},
   "outputs": [],
   "source": [
    "builder = AtmospecWorkChain.get_builder()\n",
    "old_workchain = load_node(pk=226)\n",
    "builder.structure = old_workchain.inputs.structure\n",
    "for input in old_workchain.inputs:\n",
    "    if input != 'structure':\n",
    "        builder[input] = old_workchain.inputs[input]\n",
    "        \n",
    "# Patch the inputs to reduct comp cost\n",
    "builder.nwigner = 2\n",
    "\n",
    "params = builder.opt.orca.parameters.get_dict()\n",
    "params['input_keywords'] = ['sto-3g', 'pbe', 'Opt', 'AnFreq']\n",
    "builder.opt.orca.parameters = Dict(dict=params)\n",
    "\n",
    "params = builder.exc.orca.parameters.get_dict()\n",
    "params['input_keywords'] = ['sto-3g', 'pbe']\n",
    "builder.exc.orca.parameters = Dict(dict=params)\n",
    "\n",
    "# Not sure why this is not already included\n",
    "builder.opt.orca.metadata.options.resources = {'tot_num_mpiprocs': 1}\n",
    "builder.exc.orca.metadata.options.resources = {'tot_num_mpiprocs': 1}\n",
    "builder.opt.clean_workdir = Bool(True)\n",
    "builder.exc.clean_workdir = Bool(True)\n",
    "builder"
   ]
  },
  {
   "cell_type": "code",
   "execution_count": null,
   "id": "a7611a29",
   "metadata": {},
   "outputs": [],
   "source": [
    "output = run(builder)\n",
    "output"
   ]
  },
  {
   "cell_type": "code",
   "execution_count": null,
   "id": "011489fb",
   "metadata": {},
   "outputs": [],
   "source": [
    "x = Int(1).store()\n",
    "y = Int(2).store()"
   ]
  },
  {
   "cell_type": "code",
   "execution_count": null,
   "id": "dfd7b891",
   "metadata": {},
   "outputs": [],
   "source": [
    "struct = load_node(pk=1824)\n",
    "l = [x, y, struct]\n",
    "# This doesn't work\n",
    "inputs = {str(i): val for i, val in enumerate(l)}\n",
    "#run(CombineInputsToList, ns=inputs)"
   ]
  },
  {
   "cell_type": "code",
   "execution_count": null,
   "id": "30c6acaa",
   "metadata": {},
   "outputs": [],
   "source": [
    "inputs"
   ]
  },
  {
   "cell_type": "code",
   "execution_count": null,
   "id": "065f69de",
   "metadata": {},
   "outputs": [],
   "source": [
    "l = [struct, struct]\n",
    "inputs = {str(i): val for i, val in enumerate(l)}\n",
    "traj = run(CombineStructuresToTrajectoryData, structures=inputs)\n",
    "traj"
   ]
  },
  {
   "cell_type": "code",
   "execution_count": null,
   "id": "85008323",
   "metadata": {},
   "outputs": [],
   "source": [
    "len(traj['trajectory'].get_stepids())"
   ]
  },
  {
   "cell_type": "code",
   "execution_count": null,
   "id": "1f00e88d",
   "metadata": {},
   "outputs": [],
   "source": [
    "l = [List(list=[1, 2]), List(list=[2, 3])]\n",
    "inputs = {str(i): val for i, val in enumerate(l)}\n",
    "run(CombineInputsToList, ns=inputs)"
   ]
  },
  {
   "cell_type": "code",
   "execution_count": null,
   "id": "c0b62c26",
   "metadata": {},
   "outputs": [],
   "source": [
    "l = [Dict(dict={\"1\": 2}), Dict(dict={\"1\": 2})]\n",
    "inputs = {str(i): val for i, val in enumerate(l)}\n",
    "run(CombineInputsToList, ns=inputs)"
   ]
  },
  {
   "cell_type": "code",
   "execution_count": null,
   "id": "8590abfe",
   "metadata": {},
   "outputs": [],
   "source": [
    "l[0].get_dict()"
   ]
  },
  {
   "cell_type": "code",
   "execution_count": null,
   "id": "cce310f2",
   "metadata": {},
   "outputs": [],
   "source": [
    "class ConcatDictsToList(WorkChain):\n",
    "    \n",
    "    @classmethod\n",
    "    def define(cls, spec):\n",
    "        super().define(spec)\n",
    "        spec.input_namespace(\"ns\", dynamic=True)\n",
    "        spec.output(\"output\", valid_type=List)\n",
    "        spec.outline(cls.combine)\n",
    "        \n",
    "    def combine(self):\n",
    "        input_list = [self.inputs.ns[k].get_dict() for k in self.inputs.ns]\n",
    "        self.out('output', List(list=input_list).store())"
   ]
  },
  {
   "cell_type": "code",
   "execution_count": null,
   "id": "255b2bc4",
   "metadata": {},
   "outputs": [],
   "source": [
    "run(ConcatDictsToList, ns=inputs)"
   ]
  },
  {
   "cell_type": "code",
   "execution_count": null,
   "id": "7c94f6c0",
   "metadata": {},
   "outputs": [],
   "source": [
    "from aiida.engine import calcfunction\n",
    "import numpy as np\n",
    "Array = DataFactory('core.array')\n",
    "TrajectoryData = DataFactory('array.trajectory')\n",
    "\n",
    "@calcfunction\n",
    "def structures_to_trajectory(arrays: Array = None, **structures) -> TrajectoryData:\n",
    "    traj = TrajectoryData([structure for structure in structures.values()])\n",
    "    if arrays is not None:\n",
    "        for name in arrays.get_arraynames():\n",
    "            traj.set_array(name, arrays.get_array(name))\n",
    "    return traj"
   ]
  },
  {
   "cell_type": "code",
   "execution_count": null,
   "id": "afce1706",
   "metadata": {},
   "outputs": [],
   "source": [
    "struct1 = load_node(224)\n",
    "struct2 = load_node(213)\n",
    "structures = {\n",
    "    '0': struct1,\n",
    "    '1': struct1,\n",
    "}\n",
    "energies = [0.0, 1.0]\n",
    "arrays = Array()\n",
    "arrays.set_array('energies', np.array(energies))\n",
    "arrays.set_array('boltzmann_weights', np.array([2., 3.]))\n",
    "traj = structures_to_trajectory(**structures)"
   ]
  },
  {
   "cell_type": "code",
   "execution_count": null,
   "id": "6ca20f6f",
   "metadata": {},
   "outputs": [],
   "source": [
    "traj"
   ]
  },
  {
   "cell_type": "code",
   "execution_count": null,
   "id": "7f7ace74",
   "metadata": {},
   "outputs": [],
   "source": [
    "XyData = DataFactory('core.array.xy')\n",
    "import numpy as np\n",
    "\n",
    "xy = XyData()"
   ]
  },
  {
   "cell_type": "code",
   "execution_count": null,
   "id": "f0fa3d27",
   "metadata": {},
   "outputs": [],
   "source": [
    "xy.set_x(np.array([3,4]), \"Geometry index\", \"-\")\n",
    "y1 = np.array([2,1])\n",
    "y2 = np.array([3,4])\n",
    "labels = [\"Energy\", \"BW\"]\n",
    "units = [\"kJ/mol\", \"-\"]\n",
    "xy.set_y([y1,y2], labels, units)"
   ]
  },
  {
   "cell_type": "code",
   "execution_count": null,
   "id": "046c661e",
   "metadata": {},
   "outputs": [],
   "source": [
    "xy.get_arraynames()"
   ]
  },
  {
   "cell_type": "code",
   "execution_count": null,
   "id": "dde2100e",
   "metadata": {},
   "outputs": [],
   "source": [
    "xy.set_y(np.array([0,1,3]), \"Boltzmann weights\", \"-\")"
   ]
  },
  {
   "cell_type": "code",
   "execution_count": null,
   "id": "02f2a029",
   "metadata": {},
   "outputs": [],
   "source": [
    "xy.get_y()"
   ]
  },
  {
   "cell_type": "code",
   "execution_count": null,
   "id": "cdf0a36d",
   "metadata": {},
   "outputs": [],
   "source": [
    "Array = DataFactory('core.array')"
   ]
  },
  {
   "cell_type": "code",
   "execution_count": null,
   "id": "0f3fd4c0",
   "metadata": {},
   "outputs": [],
   "source": [
    "ar = Array()"
   ]
  },
  {
   "cell_type": "code",
   "execution_count": null,
   "id": "eac28fa2",
   "metadata": {},
   "outputs": [],
   "source": [
    "ar.set_array(\"name\", np.array([1,2]))"
   ]
  },
  {
   "cell_type": "code",
   "execution_count": null,
   "id": "c05c7c2d",
   "metadata": {},
   "outputs": [],
   "source": [
    "ar.get_array(\"name\")"
   ]
  },
  {
   "cell_type": "code",
   "execution_count": null,
   "id": "6be80e60",
   "metadata": {},
   "outputs": [],
   "source": [
    "from aiidalab_atmospec_workchain import structures_to_trajectory"
   ]
  },
  {
   "cell_type": "code",
   "execution_count": null,
   "id": "5ce929dc",
   "metadata": {},
   "outputs": [],
   "source": [
    "structures_to_trajectory(**structures)"
   ]
  },
  {
   "cell_type": "code",
   "execution_count": null,
   "id": "6ac5c9b4",
   "metadata": {},
   "outputs": [],
   "source": [
    "structures_to_trajectory?"
   ]
  },
  {
   "cell_type": "code",
   "execution_count": null,
   "id": "ec3326f8",
   "metadata": {},
   "outputs": [],
   "source": [
    "structures"
   ]
  },
  {
   "cell_type": "code",
   "execution_count": null,
   "id": "d4012a5a",
   "metadata": {},
   "outputs": [],
   "source": []
  }
 ],
 "metadata": {
  "kernelspec": {
   "display_name": "Python 3 (ipykernel)",
   "language": "python",
   "name": "python3"
  },
  "language_info": {
   "codemirror_mode": {
    "name": "ipython",
    "version": 3
   },
   "file_extension": ".py",
   "mimetype": "text/x-python",
   "name": "python",
   "nbconvert_exporter": "python",
   "pygments_lexer": "ipython3",
   "version": "3.9.13"
  }
 },
 "nbformat": 4,
 "nbformat_minor": 5
}
