{
 "cells": [
  {
   "cell_type": "code",
   "execution_count": null,
   "id": "6b2b98b7",
   "metadata": {},
   "outputs": [],
   "source": [
    "from aiidalab_ispg.widgets import TrajectoryDataViewer, TrajectoryManagerWidget\n",
    "from aiidalab_ispg import ConformerSmilesWidget"
   ]
  },
  {
   "cell_type": "code",
   "execution_count": null,
   "id": "0a6fa669",
   "metadata": {},
   "outputs": [],
   "source": [
    "structure_manager_widget = TrajectoryManagerWidget(\n",
    "    importers=[\n",
    "        ConformerSmilesWidget(title=\"Conformer sampling\")\n",
    "    ],\n",
    "    node_class='TrajectoryData',\n",
    "    viewer=TrajectoryDataViewer(),\n",
    ")\n",
    "display(structure_manager_widget)"
   ]
  }
 ],
 "metadata": {
  "kernelspec": {
   "display_name": "Python 3 (ipykernel)",
   "language": "python",
   "name": "python3"
  },
  "language_info": {
   "codemirror_mode": {
    "name": "ipython",
    "version": 3
   },
   "file_extension": ".py",
   "mimetype": "text/x-python",
   "name": "python",
   "nbconvert_exporter": "python",
   "pygments_lexer": "ipython3",
   "version": "3.8.13"
  }
 },
 "nbformat": 4,
 "nbformat_minor": 5
}
