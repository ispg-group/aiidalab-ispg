{
 "cells": [
  {
   "cell_type": "code",
   "execution_count": null,
   "id": "f0d80f7a",
   "metadata": {},
   "outputs": [],
   "source": [
    "%%javascript\n",
    "IPython.OutputArea.prototype._should_scroll = function(lines) {\n",
    "    return false;\n",
    "}\n",
    "document.title = 'Conformer App'\n",
    "if (document.getElementById('appmode-busy')) {\n",
    "    window.onbeforeunload = function() {return}\n",
    "}"
   ]
  },
  {
   "cell_type": "code",
   "execution_count": null,
   "id": "6b2b98b7",
   "metadata": {},
   "outputs": [],
   "source": [
    "from aiidalab_ispg.widgets import TrajectoryDataViewer, TrajectoryManagerWidget\n",
    "from aiidalab_ispg import ConformerSmilesWidget\n",
    "from aiidalab_ispg.conformers import FFMethod, XTBMethod, RDKitMethod\n",
    "import ipywidgets as ipw"
   ]
  },
  {
   "cell_type": "code",
   "execution_count": null,
   "id": "17d1db2a",
   "metadata": {},
   "outputs": [],
   "source": [
    "rdkit_selector = ipw.Dropdown(\n",
    "    options=[(method.value, method) for method in RDKitMethod],\n",
    "    value=RDKitMethod.ETKDGV3,\n",
    ")\n",
    "ff_selector = ipw.Dropdown(\n",
    "    options=[(method.value, method) for method in FFMethod],\n",
    "    value=FFMethod.MMFF94,\n",
    ")\n",
    "xtb_selector = ipw.Dropdown(\n",
    "    options=[(method.value, method) for method in XTBMethod],\n",
    "    value=XTBMethod.NONE,\n",
    ")\n",
    "controls = ipw.HBox(children=[rdkit_selector, ff_selector, xtb_selector])"
   ]
  },
  {
   "cell_type": "code",
   "execution_count": null,
   "id": "0a6fa669",
   "metadata": {},
   "outputs": [],
   "source": [
    "conformer_widget = ConformerSmilesWidget(title=\"Conformer sampling\")\n",
    "conformer_widget.debug = True\n",
    "ipw.dlink((ff_selector, 'value'), (conformer_widget, 'ff_method'))\n",
    "ipw.dlink((rdkit_selector, 'value'), (conformer_widget, 'rdkit_method'))\n",
    "ipw.dlink((xtb_selector, 'value'), (conformer_widget, 'xtb_method'))\n",
    "\n",
    "structure_manager_widget = TrajectoryManagerWidget(\n",
    "    importers=[conformer_widget],\n",
    "    node_class='TrajectoryData',\n",
    "    viewer=TrajectoryDataViewer(),\n",
    ")\n",
    "display(ipw.VBox(children=[controls, structure_manager_widget]))"
   ]
  },
  {
   "cell_type": "code",
   "execution_count": null,
   "id": "14cb7735",
   "metadata": {},
   "outputs": [],
   "source": []
  }
 ],
 "metadata": {
  "kernelspec": {
   "display_name": "Python 3 (ipykernel)",
   "language": "python",
   "name": "python3"
  },
  "language_info": {
   "codemirror_mode": {
    "name": "ipython",
    "version": 3
   },
   "file_extension": ".py",
   "mimetype": "text/x-python",
   "name": "python",
   "nbconvert_exporter": "python",
   "pygments_lexer": "ipython3",
   "version": "3.9.13"
  }
 },
 "nbformat": 4,
 "nbformat_minor": 5
}
