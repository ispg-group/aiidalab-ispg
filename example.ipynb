{
 "cells": [
  {
   "cell_type": "markdown",
   "metadata": {},
   "source": [
    "## Playing with RDKit"
   ]
  },
  {
   "cell_type": "code",
   "execution_count": null,
   "metadata": {},
   "outputs": [],
   "source": [
    "from rdkit import Chem\n",
    "from rdkit.Chem import AllChem\n",
    "from rdkit.Chem.Draw import IPythonConsole #Needed to show molecules\n",
    "from rdkit.Chem.Draw.MolDrawing import MolDrawing, DrawingOptions\n",
    "DrawingOptions.bondLineWidth=1.8"
   ]
  },
  {
   "cell_type": "code",
   "execution_count": null,
   "metadata": {},
   "outputs": [],
   "source": [
    "template = Chem.MolFromSmiles('c1nccc2n1ccc2')\n",
    "#AllChem.Compute2DCoords(template)\n",
    "template"
   ]
  },
  {
   "cell_type": "code",
   "execution_count": null,
   "metadata": {},
   "outputs": [],
   "source": [
    "Chem.Draw.IPythonConsole.InstallIPythonRenderer()"
   ]
  },
  {
   "cell_type": "code",
   "execution_count": null,
   "metadata": {},
   "outputs": [],
   "source": [
    "mol = Chem.MolFromSmiles('C=C=C')\n",
    "mol = AllChem.AddHs(mol)\n",
    "DrawingOptions.includeAtomNumbers=True\n",
    "mol"
   ]
  },
  {
   "cell_type": "code",
   "execution_count": null,
   "metadata": {},
   "outputs": [],
   "source": [
    "text = widgets.Text(\n",
    "    value='',\n",
    "    placeholder='SMILES input',\n",
    "    description='String:',\n",
    "    disabled=False\n",
    ")\n",
    "output = widgets.Output()\n",
    "\n",
    "display(text, output)\n",
    "\n",
    "def rdkit_2d_struct(smiles):\n",
    "    m = Chem.MolFromSmiles(smiles)\n",
    "    return m\n",
    "\n",
    "def on_text_change(change):\n",
    "    smiles = change['new']\n",
    "    try:\n",
    "        m = rdkit_2d_struct(smiles)\n",
    "        with output:\n",
    "            print(m)\n",
    "    except:\n",
    "        pass\n",
    "\n",
    "text.observe(on_text_change, names='value')"
   ]
  },
  {
   "cell_type": "code",
   "execution_count": null,
   "metadata": {},
   "outputs": [],
   "source": [
    "from aiidalab_widgets_base import AiidaNodeViewWidget, ProcessNodesTreeWidget, ProcessMonitor\n",
    "import ipywidgets as ipw\n",
    "\n",
    "process_tree = ProcessNodesTreeWidget()\n",
    "node_view = AiidaNodeViewWidget(layout={\"width\": \"auto\", \"height\": \"auto\"})\n",
    "ipw.dlink(\n",
    "    (process_tree, \"selected_nodes\"),\n",
    "    (node_view, \"node\"),\n",
    "    transform=lambda nodes: nodes[0] if nodes else None,\n",
    ")\n",
    "\n",
    "w = ipw.VBox(children=[process_tree, node_view])\n",
    "process_monitor = ProcessMonitor(\n",
    "            timeout=0.1,\n",
    "            callbacks=[\n",
    "                process_tree.update,\n",
    "            ],\n",
    ")\n",
    "ipw.dlink((process_tree, \"process\"), (process_monitor, \"process\"))\n",
    "workchain_pk = calc_node.pk\n",
    "process_tree.process = load_node(workchain_pk)\n",
    "display(w)"
   ]
  },
  {
   "cell_type": "markdown",
   "metadata": {},
   "source": [
    "## Storing experimental spectrum in the database"
   ]
  },
  {
   "cell_type": "code",
   "execution_count": null,
   "metadata": {},
   "outputs": [],
   "source": [
    "from aiida.plugins import DataFactory\n",
    "import numpy as np\n",
    "import aiida\n",
    "\n",
    "aiida.load_profile()\n",
    "\n",
    "XyData = DataFactory('array.xy')\n",
    "xy = XyData()"
   ]
  },
  {
   "cell_type": "code",
   "execution_count": null,
   "metadata": {},
   "outputs": [],
   "source": [
    "bibliography = ' I. Magneron, R. Thévenet, A. Mellouki, G. Le Bras, G.K. Moortgat, and K. Wirtz, \"A study of the photolysis and OH-initiated oxidation of acrolein and trans-crotonaldehyde\", J. Phys. Chem. A 106, 2526-2537 (2002); DOI: 10.1021/jp013413a '\n",
    "source = {'db_name': 'UV/VIS Spectral Atlas',\n",
    "          'db_uri': 'http://satellite.mpic.de/spectral_atlas',\n",
    "          'uri': 'http://satellite.mpic.de/spectral_atlas/cross_sections/Organics%20(carbonyls)/Aldehydes(aliphatic)/CH2=CHCHO_Magneron(2002)_298K_282-390nm.txt',\n",
    "          'id': 'HGINCPLSRVDWNT-UHFFFAOYSA-N', # inChi key\n",
    "          'version': '2022',\n",
    "          'description': bibliography,\n",
    "          'license': '?'\n",
    "}\n",
    "energy_nm = np.array([282,284,286,288,290,292,294,296,298,300,302,304,306,308,310,312,314,316,318,320,322,324,326,328,330,332,334,336,338,340,342,344,346,348,350,352,354,356,358,360,362,364,366,368,370,372,374,376,378,380,382,384,386,388,390]) \n",
    "y = np.array([8.4e-21,9.7e-21,1.08e-20,1.23e-20,1.46e-20,1.62e-20,1.8e-20,1.97e-20,2.18e-20,2.47e-20,2.7e-20,2.85e-20,3.09e-20,3.29e-20,3.59e-20,3.92e-20,4.15e-20,4.21e-20,4.47e-20,4.65e-20,5.08e-20,5.17e-20,5.34e-20,5.2e-20,5.31e-20,5.44e-20,5.8e-20,6.24e-20,5.46e-20,5.31e-20,5.1e-20,5.12e-20,5.3e-20,5.17e-20,5.94e-20,5.79e-20,4.18e-20,3.63e-20,3.28e-20,3.92e-20,3.72e-20,2.86e-20,3.74e-20,3.82e-20,2.17e-20,1.58e-20,1.14e-20,1.14e-20,1.24e-20,1.1e-20,8.4e-21,7.9e-21,1.18e-20,4.9e-21,2.5e-21])\n",
    "xy.set_x(energy_nm, 'energy', 'nm')\n",
    "xy.set_y(y, 'cross section', 'cm^2')"
   ]
  },
  {
   "cell_type": "code",
   "execution_count": null,
   "metadata": {},
   "outputs": [],
   "source": [
    "xy.set_source(source=source)"
   ]
  },
  {
   "cell_type": "code",
   "execution_count": null,
   "metadata": {},
   "outputs": [],
   "source": [
    "xy.set_attribute('smiles', 'C=CC=O')"
   ]
  },
  {
   "cell_type": "code",
   "execution_count": null,
   "metadata": {},
   "outputs": [],
   "source": [
    "xy.base.attributes.all"
   ]
  },
  {
   "cell_type": "code",
   "execution_count": null,
   "metadata": {},
   "outputs": [],
   "source": [
    "node = xy.store()"
   ]
  },
  {
   "cell_type": "code",
   "execution_count": null,
   "metadata": {},
   "outputs": [],
   "source": [
    "node.base.extras.set(\"smiles\", 'C=CC=O')"
   ]
  },
  {
   "cell_type": "code",
   "execution_count": null,
   "metadata": {},
   "outputs": [],
   "source": [
    "from aiida.orm import QueryBuilder\n",
    "XyData = DataFactory('array.xy')\n",
    "qb = QueryBuilder()\n",
    "qb.append(XyData, filters={\n",
    "    'extras.smiles': 'C=CC=O'\n",
    "})\n",
    "qb.all()"
   ]
  },
  {
   "cell_type": "markdown",
   "metadata": {},
   "source": [
    "## Wigner sampling"
   ]
  },
  {
   "cell_type": "code",
   "execution_count": null,
   "metadata": {},
   "outputs": [],
   "source": [
    "%aiida"
   ]
  },
  {
   "cell_type": "code",
   "execution_count": null,
   "metadata": {},
   "outputs": [],
   "source": [
    "import aiidalab_ispg.workflows.wigner_position as wigner"
   ]
  },
  {
   "cell_type": "code",
   "execution_count": null,
   "metadata": {},
   "outputs": [],
   "source": [
    "output_dict = load_node(pk=1797)"
   ]
  },
  {
   "cell_type": "code",
   "execution_count": null,
   "metadata": {},
   "outputs": [],
   "source": [
    "from ase import Atoms\n",
    "from aiida.engine import calcfunction\n",
    "from aiida.orm import StructureData, TrajectoryData\n",
    "\n",
    "@calcfunction\n",
    "def sample_wigner(orca_output_dict, nsample):\n",
    "    frequencies = output_dict['vibfreqs']\n",
    "    masses = output_dict['atommasses']\n",
    "    normal_modes = output_dict['vibdisps']\n",
    "    elements = output_dict['elements']\n",
    "    min_coord = output_dict['atomcoords'][-1]\n",
    "    natom = output_dict['natom']\n",
    "    # convert to Bohrs\n",
    "    ANG2BOHRS = 1./0.529177211\n",
    "    coordinates = []\n",
    "    for iat in range(natom):\n",
    "        coordinates.append([min_coord[iat][0]*ANG2BOHRS, min_coord[iat][1]*ANG2BOHRS, min_coord[iat][2]*ANG2BOHRS])\n",
    "    seed = 1235235\n",
    "    w = wigner.Wigner(elements, masses, coordinates, frequencies, normal_modes, seed)\n",
    "    \n",
    "    wigner_list = []\n",
    "    for i in range(nsample.value):\n",
    "        wigner_coord = w.get_sample()\n",
    "        # Convert to angstroms\n",
    "        wigner_coord_ang = []\n",
    "        for iat in range(natom):\n",
    "            wigner_coord_ang.append([wigner_coord[iat][0]/ANG2BOHRS, wigner_coord[iat][1]/ANG2BOHRS, wigner_coord[iat][2]/ANG2BOHRS])\n",
    "        # TODO: We shouldn't need to specify cell\n",
    "        # https://github.com/aiidateam/aiida-core/issues/5248\n",
    "        ase_struct = Atoms(positions=wigner_coord_ang, symbols=elements, cell=(1., 1., 1.))\n",
    "        wigner_list.append(StructureData(ase=ase_struct))\n",
    "    return TrajectoryData(structurelist=wigner_list)"
   ]
  },
  {
   "cell_type": "code",
   "execution_count": null,
   "metadata": {},
   "outputs": [],
   "source": [
    "struct = sample_wigner(output_dict, Int(5))"
   ]
  },
  {
   "cell_type": "code",
   "execution_count": null,
   "metadata": {},
   "outputs": [],
   "source": [
    "struct"
   ]
  },
  {
   "cell_type": "code",
   "execution_count": null,
   "metadata": {},
   "outputs": [],
   "source": [
    "coordinates"
   ]
  },
  {
   "cell_type": "code",
   "execution_count": null,
   "metadata": {},
   "outputs": [],
   "source": [
    "seed = 1235235\n",
    "w = wigner.Wigner(elements, masses, coordinates, frequencies, normal_modes, seed)\n",
    "coordinates = w.get_sample()\n",
    "coordinates"
   ]
  },
  {
   "cell_type": "code",
   "execution_count": null,
   "metadata": {},
   "outputs": [],
   "source": []
  },
  {
   "cell_type": "code",
   "execution_count": null,
   "metadata": {},
   "outputs": [],
   "source": []
  },
  {
   "cell_type": "code",
   "execution_count": null,
   "metadata": {},
   "outputs": [],
   "source": [
    "ase_struct.get_positions()"
   ]
  },
  {
   "cell_type": "code",
   "execution_count": null,
   "metadata": {},
   "outputs": [],
   "source": []
  },
  {
   "cell_type": "code",
   "execution_count": null,
   "metadata": {},
   "outputs": [],
   "source": [
    "wigner_struct.store()"
   ]
  },
  {
   "cell_type": "code",
   "execution_count": null,
   "metadata": {},
   "outputs": [],
   "source": [
    "wigner_struct"
   ]
  },
  {
   "cell_type": "code",
   "execution_count": null,
   "metadata": {},
   "outputs": [],
   "source": [
    "import ase\n",
    "ase_struct = ase.Atoms(symbols=\"H\", positions=[(0.0, 0.0, 0.0)])\n",
    "ase_struct.cell"
   ]
  },
  {
   "cell_type": "code",
   "execution_count": null,
   "metadata": {},
   "outputs": [],
   "source": [
    "StructureData(ase=ase_struct)"
   ]
  },
  {
   "cell_type": "code",
   "execution_count": null,
   "metadata": {},
   "outputs": [],
   "source": []
  }
 ],
 "metadata": {
  "kernelspec": {
   "display_name": "Python 3",
   "language": "python",
   "name": "python3"
  },
  "language_info": {
   "codemirror_mode": {
    "name": "ipython",
    "version": 3
   },
   "file_extension": ".py",
   "mimetype": "text/x-python",
   "name": "python",
   "nbconvert_exporter": "python",
   "pygments_lexer": "ipython3",
   "version": "3.9.4"
  }
 },
 "nbformat": 4,
 "nbformat_minor": 2
}
